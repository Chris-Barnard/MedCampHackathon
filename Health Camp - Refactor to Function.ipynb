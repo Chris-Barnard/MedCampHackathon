{
 "cells": [
  {
   "cell_type": "code",
   "execution_count": 1,
   "metadata": {
    "collapsed": true
   },
   "outputs": [],
   "source": [
    "import numpy as np\n",
    "import pandas as pd\n",
    "import matplotlib.pyplot as plt\n",
    "%matplotlib inline"
   ]
  },
  {
   "cell_type": "code",
   "execution_count": 2,
   "metadata": {
    "collapsed": false,
    "scrolled": true
   },
   "outputs": [
    {
     "name": "stdout",
     "output_type": "stream",
     "text": [
      "/Users/chrisbarnard/Documents/Programming/Python/getting_started/MedCamp Hackathon/data\n"
     ]
    }
   ],
   "source": [
    "%cd data"
   ]
  },
  {
   "cell_type": "markdown",
   "metadata": {},
   "source": [
    "# Pull in data sources\n",
    "## Test Data"
   ]
  },
  {
   "cell_type": "code",
   "execution_count": 3,
   "metadata": {
    "collapsed": true
   },
   "outputs": [],
   "source": [
    "def loadTestData():\n",
    "    test_data = pd.read_csv('Test.csv',sep=',', parse_dates=[2], index_col=['Patient_ID', 'Health_Camp_ID'])\n",
    "    return test_data"
   ]
  },
  {
   "cell_type": "markdown",
   "metadata": {},
   "source": [
    "## Training Data"
   ]
  },
  {
   "cell_type": "code",
   "execution_count": 4,
   "metadata": {
    "collapsed": true
   },
   "outputs": [],
   "source": [
    "def loadTrainData():\n",
    "    train_data = pd.read_csv('Train/Train.csv',sep=',', parse_dates=[2], index_col=['Patient_ID', 'Health_Camp_ID'])\n",
    "    return train_data"
   ]
  },
  {
   "cell_type": "markdown",
   "metadata": {},
   "source": [
    "## Merge in some other key fields\n",
    "### Define a function that will merge in all other fields into dataset"
   ]
  },
  {
   "cell_type": "code",
   "execution_count": 5,
   "metadata": {
    "collapsed": false
   },
   "outputs": [],
   "source": [
    "def getData(sourceData):\n",
    "    HC1 = pd.read_csv('Train/First_Health_Camp_Attended.csv', sep=',', index_col=['Patient_ID', 'Health_Camp_ID'])\n",
    "    HC1.pop('Unnamed: 4')\n",
    "    sourceData['Health_Camp_Score_1'] = HC1['Health_Score']\n",
    "    sourceData['Health_Camp_Attended_1'] = sourceData['Health_Camp_Score_1'].apply(lambda x: True if x > 0 else False)\n",
    "\n",
    "    HC2 = pd.read_csv('Train/Second_Health_Camp_Attended.csv', sep=',', index_col=['Patient_ID','Health_Camp_ID'])\n",
    "    sourceData['Health_Camp_Score_2'] = HC2['Health Score']\n",
    "    sourceData['Health_Camp_Attended_2'] = sourceData['Health_Camp_Score_2'].apply(lambda x: True if x > 0 else False)\n",
    "\n",
    "    HC3 = pd.read_csv('Train/Third_Health_Camp_Attended.csv', sep=',', index_col=['Patient_ID','Health_Camp_ID'])\n",
    "    sourceData['Health_Camp_Stalls_3'] = HC3['Number_of_stall_visited']\n",
    "    sourceData['Health_Camp_Attended_3'] = sourceData['Health_Camp_Stalls_3'].apply(lambda x: True if x > 0 else False)\n",
    "\n",
    "    ### Positive_Result\n",
    "\n",
    "    sourceData['Positive_Result'] = (sourceData['Health_Camp_Attended_1'] | sourceData['Health_Camp_Attended_2'] | sourceData['Health_Camp_Attended_3'])\n",
    "\n",
    "    ### Health_Camp_Details\n",
    "\n",
    "    HCDetails = pd.read_csv('Train/Health_Camp_Detail.csv', sep=',', index_col='Health_Camp_ID', parse_dates=[1,2])\n",
    "    sourceData = sourceData.join(HCDetails)\n",
    "\n",
    "    ### Patient Details\n",
    "\n",
    "    PatientProfiles = pd.read_csv('Train/Patient_Profile.csv', sep=',', index_col='Patient_ID', parse_dates=[8])\n",
    "    sourceData = sourceData.join(PatientProfiles)\n",
    "\n",
    "    ### Add in the reg_num\n",
    "\n",
    "    df = sourceData[['Registration_Date','Positive_Result']]\n",
    "    df.reset_index(level=['Patient_ID','Health_Camp_ID'], inplace=1)\n",
    "    hist = df.sort_values(by=['Patient_ID','Registration_Date'])\n",
    "    hist.set_index(['Patient_ID','Health_Camp_ID'], inplace=1)\n",
    "\n",
    "    sourceData['reg_num'] = hist.groupby(level=0).cumcount()\n",
    "    \n",
    "    ### Repeat Register Flag\n",
    "    sourceData['rep_reg'] = sourceData['reg_num'].apply(lambda x: True if x > 0 else False)\n",
    "    \n",
    "    ### rep_reg_bin\n",
    "\n",
    "    # define a bin size\n",
    "    size = 8\n",
    "    bins = np.logspace(np.log2(0.99), np.log2(sourceData.reg_num.max()), size, endpoint=True, base=2)\n",
    "\n",
    "    sourceData['rep_reg_bin'] = pd.cut(sourceData.reg_num, bins).cat.rename_categories([1,2,3,4,5,6,7])\n",
    "    sourceData['rep_reg_bin'] = sourceData['rep_reg_bin'].cat.add_categories(-1)\n",
    "    sourceData['rep_reg_bin'] = sourceData['rep_reg_bin'].fillna(-1)\n",
    "    \n",
    "    #train_data['rep_reg_bin'] = train_data['rep_reg_bin'].cat.rename_categories([1,2,3,4,5,6,7])\n",
    "    \n",
    "    ### has_var\n",
    "    sourceData['has_var'] = (sourceData['Var1'] > 0) | (sourceData['Var2'] > 0) | (sourceData['Var3'] > 0) | (sourceData['Var4'] > 0) | (sourceData['Var5'] > 0) \n",
    "    \n",
    "    ### v1_b\n",
    "    # define a bin size\n",
    "    #size = 5\n",
    "    #bins = np.logspace(np.log2(.99), np.log2(sourceData.Var1.max()), size, endpoint=True, base=2)\n",
    "\n",
    "    #sourceData['v1_b'] = pd.cut(sourceData.Var1, bins).cat.rename_categories([1,2,3,4])\n",
    "    #sourceData['v1_b'] = sourceData['v1_b'].cat.add_categories(-1)\n",
    "    #sourceData['v1_b'] = sourceData['v1_b'].fillna(-1)\n",
    "    \n",
    "    ### online   \n",
    "    sourceData['online'] = (sourceData['Online_Follower']) | (sourceData['LinkedIn_Shared']) | (sourceData['Twitter_Shared']) | (sourceData['Facebook_Shared'])\n",
    "    \n",
    "    ### City_Type\n",
    "    sourceData['City_Type'] = sourceData['City_Type'].fillna('Z')\n",
    "    \n",
    "    ### Age\n",
    "    val_counts = sourceData['Age'].value_counts().to_dict()\n",
    "    for key, value in val_counts.items():\n",
    "        if key == 'None':\n",
    "            val_counts[key] = None\n",
    "        else:\n",
    "            val_counts[key] = int(key)\n",
    "    val_counts\n",
    "    sourceData['Age'] = sourceData['Age'].apply(lambda x: val_counts.get(x))\n",
    "    \n",
    "    ### age_b\n",
    "    size = 5\n",
    "    bins = np.linspace(0,sourceData.Age.max(), size, endpoint=True)\n",
    "\n",
    "    sourceData['age_b'] = pd.cut(sourceData.Age, bins).cat.rename_categories([1,2,3,4])\n",
    "    sourceData['age_b'] = sourceData['age_b'].cat.add_categories(-1)\n",
    "    sourceData['age_b'] = sourceData['age_b'].fillna(-1)\n",
    "    \n",
    "    return sourceData\n",
    "\n"
   ]
  },
  {
   "cell_type": "code",
   "execution_count": 6,
   "metadata": {
    "collapsed": false
   },
   "outputs": [
    {
     "data": {
      "text/html": [
       "<div>\n",
       "<table border=\"1\" class=\"dataframe\">\n",
       "  <thead>\n",
       "    <tr style=\"text-align: right;\">\n",
       "      <th></th>\n",
       "      <th></th>\n",
       "      <th>Registration_Date</th>\n",
       "      <th>Var1</th>\n",
       "      <th>Var2</th>\n",
       "      <th>Var3</th>\n",
       "      <th>Var4</th>\n",
       "      <th>Var5</th>\n",
       "      <th>Health_Camp_Score_1</th>\n",
       "      <th>Health_Camp_Attended_1</th>\n",
       "      <th>Health_Camp_Score_2</th>\n",
       "      <th>Health_Camp_Attended_2</th>\n",
       "      <th>...</th>\n",
       "      <th>Age</th>\n",
       "      <th>First_Interaction</th>\n",
       "      <th>City_Type</th>\n",
       "      <th>Employer_Category</th>\n",
       "      <th>reg_num</th>\n",
       "      <th>rep_reg</th>\n",
       "      <th>rep_reg_bin</th>\n",
       "      <th>has_var</th>\n",
       "      <th>online</th>\n",
       "      <th>age_b</th>\n",
       "    </tr>\n",
       "    <tr>\n",
       "      <th>Patient_ID</th>\n",
       "      <th>Health_Camp_ID</th>\n",
       "      <th></th>\n",
       "      <th></th>\n",
       "      <th></th>\n",
       "      <th></th>\n",
       "      <th></th>\n",
       "      <th></th>\n",
       "      <th></th>\n",
       "      <th></th>\n",
       "      <th></th>\n",
       "      <th></th>\n",
       "      <th></th>\n",
       "      <th></th>\n",
       "      <th></th>\n",
       "      <th></th>\n",
       "      <th></th>\n",
       "      <th></th>\n",
       "      <th></th>\n",
       "      <th></th>\n",
       "      <th></th>\n",
       "      <th></th>\n",
       "      <th></th>\n",
       "    </tr>\n",
       "  </thead>\n",
       "  <tbody>\n",
       "    <tr>\n",
       "      <th>489652</th>\n",
       "      <th>6578</th>\n",
       "      <td>2005-09-10</td>\n",
       "      <td>4</td>\n",
       "      <td>0</td>\n",
       "      <td>0</td>\n",
       "      <td>0</td>\n",
       "      <td>2</td>\n",
       "      <td>NaN</td>\n",
       "      <td>False</td>\n",
       "      <td>NaN</td>\n",
       "      <td>False</td>\n",
       "      <td>...</td>\n",
       "      <td>NaN</td>\n",
       "      <td>2004-12-06</td>\n",
       "      <td>Z</td>\n",
       "      <td>NaN</td>\n",
       "      <td>8</td>\n",
       "      <td>True</td>\n",
       "      <td>5</td>\n",
       "      <td>True</td>\n",
       "      <td>0</td>\n",
       "      <td>-1</td>\n",
       "    </tr>\n",
       "    <tr>\n",
       "      <th>507246</th>\n",
       "      <th>6578</th>\n",
       "      <td>2005-08-18</td>\n",
       "      <td>45</td>\n",
       "      <td>5</td>\n",
       "      <td>0</td>\n",
       "      <td>0</td>\n",
       "      <td>7</td>\n",
       "      <td>NaN</td>\n",
       "      <td>False</td>\n",
       "      <td>NaN</td>\n",
       "      <td>False</td>\n",
       "      <td>...</td>\n",
       "      <td>40.0</td>\n",
       "      <td>2004-09-08</td>\n",
       "      <td>C</td>\n",
       "      <td>Others</td>\n",
       "      <td>11</td>\n",
       "      <td>True</td>\n",
       "      <td>5</td>\n",
       "      <td>True</td>\n",
       "      <td>0</td>\n",
       "      <td>2</td>\n",
       "    </tr>\n",
       "    <tr>\n",
       "      <th>523729</th>\n",
       "      <th>6534</th>\n",
       "      <td>2006-04-29</td>\n",
       "      <td>0</td>\n",
       "      <td>0</td>\n",
       "      <td>0</td>\n",
       "      <td>0</td>\n",
       "      <td>0</td>\n",
       "      <td>NaN</td>\n",
       "      <td>False</td>\n",
       "      <td>0.402054</td>\n",
       "      <td>True</td>\n",
       "      <td>...</td>\n",
       "      <td>NaN</td>\n",
       "      <td>2004-06-22</td>\n",
       "      <td>Z</td>\n",
       "      <td>NaN</td>\n",
       "      <td>4</td>\n",
       "      <td>True</td>\n",
       "      <td>3</td>\n",
       "      <td>False</td>\n",
       "      <td>0</td>\n",
       "      <td>-1</td>\n",
       "    </tr>\n",
       "    <tr>\n",
       "      <th>524931</th>\n",
       "      <th>6535</th>\n",
       "      <td>2004-02-07</td>\n",
       "      <td>0</td>\n",
       "      <td>0</td>\n",
       "      <td>0</td>\n",
       "      <td>0</td>\n",
       "      <td>0</td>\n",
       "      <td>NaN</td>\n",
       "      <td>False</td>\n",
       "      <td>NaN</td>\n",
       "      <td>False</td>\n",
       "      <td>...</td>\n",
       "      <td>NaN</td>\n",
       "      <td>2004-02-07</td>\n",
       "      <td>I</td>\n",
       "      <td>NaN</td>\n",
       "      <td>0</td>\n",
       "      <td>False</td>\n",
       "      <td>-1</td>\n",
       "      <td>False</td>\n",
       "      <td>0</td>\n",
       "      <td>-1</td>\n",
       "    </tr>\n",
       "    <tr>\n",
       "      <th>521364</th>\n",
       "      <th>6529</th>\n",
       "      <td>2006-02-28</td>\n",
       "      <td>15</td>\n",
       "      <td>1</td>\n",
       "      <td>0</td>\n",
       "      <td>0</td>\n",
       "      <td>7</td>\n",
       "      <td>NaN</td>\n",
       "      <td>False</td>\n",
       "      <td>0.845597</td>\n",
       "      <td>True</td>\n",
       "      <td>...</td>\n",
       "      <td>40.0</td>\n",
       "      <td>2003-07-04</td>\n",
       "      <td>I</td>\n",
       "      <td>Technology</td>\n",
       "      <td>16</td>\n",
       "      <td>True</td>\n",
       "      <td>6</td>\n",
       "      <td>True</td>\n",
       "      <td>1</td>\n",
       "      <td>2</td>\n",
       "    </tr>\n",
       "  </tbody>\n",
       "</table>\n",
       "<p>5 rows × 34 columns</p>\n",
       "</div>"
      ],
      "text/plain": [
       "                          Registration_Date  Var1  Var2  Var3  Var4  Var5  \\\n",
       "Patient_ID Health_Camp_ID                                                   \n",
       "489652     6578                  2005-09-10     4     0     0     0     2   \n",
       "507246     6578                  2005-08-18    45     5     0     0     7   \n",
       "523729     6534                  2006-04-29     0     0     0     0     0   \n",
       "524931     6535                  2004-02-07     0     0     0     0     0   \n",
       "521364     6529                  2006-02-28    15     1     0     0     7   \n",
       "\n",
       "                           Health_Camp_Score_1 Health_Camp_Attended_1  \\\n",
       "Patient_ID Health_Camp_ID                                               \n",
       "489652     6578                            NaN                  False   \n",
       "507246     6578                            NaN                  False   \n",
       "523729     6534                            NaN                  False   \n",
       "524931     6535                            NaN                  False   \n",
       "521364     6529                            NaN                  False   \n",
       "\n",
       "                           Health_Camp_Score_2 Health_Camp_Attended_2  ...    \\\n",
       "Patient_ID Health_Camp_ID                                              ...     \n",
       "489652     6578                            NaN                  False  ...     \n",
       "507246     6578                            NaN                  False  ...     \n",
       "523729     6534                       0.402054                   True  ...     \n",
       "524931     6535                            NaN                  False  ...     \n",
       "521364     6529                       0.845597                   True  ...     \n",
       "\n",
       "                            Age First_Interaction City_Type Employer_Category  \\\n",
       "Patient_ID Health_Camp_ID                                                       \n",
       "489652     6578             NaN        2004-12-06         Z               NaN   \n",
       "507246     6578            40.0        2004-09-08         C            Others   \n",
       "523729     6534             NaN        2004-06-22         Z               NaN   \n",
       "524931     6535             NaN        2004-02-07         I               NaN   \n",
       "521364     6529            40.0        2003-07-04         I        Technology   \n",
       "\n",
       "                          reg_num rep_reg rep_reg_bin  has_var  online  age_b  \n",
       "Patient_ID Health_Camp_ID                                                      \n",
       "489652     6578                 8    True           5     True       0     -1  \n",
       "507246     6578                11    True           5     True       0      2  \n",
       "523729     6534                 4    True           3    False       0     -1  \n",
       "524931     6535                 0   False          -1    False       0     -1  \n",
       "521364     6529                16    True           6     True       1      2  \n",
       "\n",
       "[5 rows x 34 columns]"
      ]
     },
     "execution_count": 6,
     "metadata": {},
     "output_type": "execute_result"
    }
   ],
   "source": [
    "train_data = getData(loadTrainData())\n",
    "train_data.head()"
   ]
  },
  {
   "cell_type": "code",
   "execution_count": 7,
   "metadata": {
    "collapsed": false,
    "scrolled": false
   },
   "outputs": [
    {
     "name": "stdout",
     "output_type": "stream",
     "text": [
      "[   0.99          4.088599     16.88549674   69.73537882  288.        ]\n"
     ]
    },
    {
     "name": "stderr",
     "output_type": "stream",
     "text": [
      "/Users/chrisbarnard/anaconda/lib/python3.5/site-packages/sklearn/utils/validation.py:420: DataConversionWarning: Data with input dtype int64 was converted to float64 by the normalize function.\n",
      "  warnings.warn(msg, DataConversionWarning)\n",
      "/Users/chrisbarnard/anaconda/lib/python3.5/site-packages/sklearn/utils/validation.py:420: DataConversionWarning: Data with input dtype int64 was converted to float64 by the normalize function.\n",
      "  warnings.warn(msg, DataConversionWarning)\n",
      "/Users/chrisbarnard/anaconda/lib/python3.5/site-packages/sklearn/utils/validation.py:420: DataConversionWarning: Data with input dtype int64 was converted to float64 by the normalize function.\n",
      "  warnings.warn(msg, DataConversionWarning)\n",
      "/Users/chrisbarnard/anaconda/lib/python3.5/site-packages/sklearn/utils/validation.py:420: DataConversionWarning: Data with input dtype int64 was converted to float64 by the normalize function.\n",
      "  warnings.warn(msg, DataConversionWarning)\n"
     ]
    },
    {
     "data": {
      "text/html": [
       "<div>\n",
       "<table border=\"1\" class=\"dataframe\">\n",
       "  <thead>\n",
       "    <tr style=\"text-align: right;\">\n",
       "      <th></th>\n",
       "      <th></th>\n",
       "      <th>Registration_Date</th>\n",
       "      <th>Var1</th>\n",
       "      <th>Var2</th>\n",
       "      <th>Var3</th>\n",
       "      <th>Var4</th>\n",
       "      <th>Var5</th>\n",
       "      <th>Health_Camp_Score_1</th>\n",
       "      <th>Health_Camp_Attended_1</th>\n",
       "      <th>Health_Camp_Score_2</th>\n",
       "      <th>Health_Camp_Attended_2</th>\n",
       "      <th>...</th>\n",
       "      <th>First_Interaction</th>\n",
       "      <th>City_Type</th>\n",
       "      <th>Employer_Category</th>\n",
       "      <th>reg_num</th>\n",
       "      <th>rep_reg</th>\n",
       "      <th>rep_reg_bin</th>\n",
       "      <th>has_var</th>\n",
       "      <th>online</th>\n",
       "      <th>age_b</th>\n",
       "      <th>v1_b</th>\n",
       "    </tr>\n",
       "    <tr>\n",
       "      <th>Patient_ID</th>\n",
       "      <th>Health_Camp_ID</th>\n",
       "      <th></th>\n",
       "      <th></th>\n",
       "      <th></th>\n",
       "      <th></th>\n",
       "      <th></th>\n",
       "      <th></th>\n",
       "      <th></th>\n",
       "      <th></th>\n",
       "      <th></th>\n",
       "      <th></th>\n",
       "      <th></th>\n",
       "      <th></th>\n",
       "      <th></th>\n",
       "      <th></th>\n",
       "      <th></th>\n",
       "      <th></th>\n",
       "      <th></th>\n",
       "      <th></th>\n",
       "      <th></th>\n",
       "      <th></th>\n",
       "      <th></th>\n",
       "    </tr>\n",
       "  </thead>\n",
       "  <tbody>\n",
       "    <tr>\n",
       "      <th>486243</th>\n",
       "      <th>6526</th>\n",
       "      <td>2004-12-02</td>\n",
       "      <td>1</td>\n",
       "      <td>0.0</td>\n",
       "      <td>0.0</td>\n",
       "      <td>0.0</td>\n",
       "      <td>0.0</td>\n",
       "      <td>NaN</td>\n",
       "      <td>False</td>\n",
       "      <td>NaN</td>\n",
       "      <td>False</td>\n",
       "      <td>...</td>\n",
       "      <td>2003-07-23</td>\n",
       "      <td>B</td>\n",
       "      <td>NaN</td>\n",
       "      <td>2</td>\n",
       "      <td>True</td>\n",
       "      <td>2</td>\n",
       "      <td>True</td>\n",
       "      <td>0</td>\n",
       "      <td>3</td>\n",
       "      <td>1</td>\n",
       "    </tr>\n",
       "    <tr>\n",
       "      <th>504508</th>\n",
       "      <th>6580</th>\n",
       "      <td>2004-11-20</td>\n",
       "      <td>1</td>\n",
       "      <td>0.0</td>\n",
       "      <td>0.0</td>\n",
       "      <td>0.0</td>\n",
       "      <td>1.0</td>\n",
       "      <td>NaN</td>\n",
       "      <td>False</td>\n",
       "      <td>NaN</td>\n",
       "      <td>False</td>\n",
       "      <td>...</td>\n",
       "      <td>2003-05-24</td>\n",
       "      <td>Z</td>\n",
       "      <td>NaN</td>\n",
       "      <td>0</td>\n",
       "      <td>False</td>\n",
       "      <td>-1</td>\n",
       "      <td>True</td>\n",
       "      <td>0</td>\n",
       "      <td>-1</td>\n",
       "      <td>1</td>\n",
       "    </tr>\n",
       "    <tr>\n",
       "      <th>519630</th>\n",
       "      <th>6538</th>\n",
       "      <td>2004-12-02</td>\n",
       "      <td>1</td>\n",
       "      <td>0.0</td>\n",
       "      <td>0.0</td>\n",
       "      <td>0.0</td>\n",
       "      <td>0.0</td>\n",
       "      <td>NaN</td>\n",
       "      <td>False</td>\n",
       "      <td>NaN</td>\n",
       "      <td>False</td>\n",
       "      <td>...</td>\n",
       "      <td>2003-04-07</td>\n",
       "      <td>B</td>\n",
       "      <td>Technology</td>\n",
       "      <td>2</td>\n",
       "      <td>True</td>\n",
       "      <td>2</td>\n",
       "      <td>True</td>\n",
       "      <td>0</td>\n",
       "      <td>2</td>\n",
       "      <td>1</td>\n",
       "    </tr>\n",
       "    <tr>\n",
       "      <th>517351</th>\n",
       "      <th>6538</th>\n",
       "      <td>2004-01-22</td>\n",
       "      <td>1</td>\n",
       "      <td>0.0</td>\n",
       "      <td>0.0</td>\n",
       "      <td>0.0</td>\n",
       "      <td>0.0</td>\n",
       "      <td>NaN</td>\n",
       "      <td>False</td>\n",
       "      <td>NaN</td>\n",
       "      <td>False</td>\n",
       "      <td>...</td>\n",
       "      <td>2003-02-08</td>\n",
       "      <td>B</td>\n",
       "      <td>NaN</td>\n",
       "      <td>0</td>\n",
       "      <td>False</td>\n",
       "      <td>-1</td>\n",
       "      <td>True</td>\n",
       "      <td>0</td>\n",
       "      <td>-1</td>\n",
       "      <td>1</td>\n",
       "    </tr>\n",
       "    <tr>\n",
       "      <th>510776</th>\n",
       "      <th>6526</th>\n",
       "      <td>2005-01-01</td>\n",
       "      <td>1</td>\n",
       "      <td>0.0</td>\n",
       "      <td>0.0</td>\n",
       "      <td>0.0</td>\n",
       "      <td>0.0</td>\n",
       "      <td>NaN</td>\n",
       "      <td>False</td>\n",
       "      <td>NaN</td>\n",
       "      <td>False</td>\n",
       "      <td>...</td>\n",
       "      <td>2004-09-08</td>\n",
       "      <td>Z</td>\n",
       "      <td>NaN</td>\n",
       "      <td>2</td>\n",
       "      <td>True</td>\n",
       "      <td>2</td>\n",
       "      <td>True</td>\n",
       "      <td>0</td>\n",
       "      <td>-1</td>\n",
       "      <td>1</td>\n",
       "    </tr>\n",
       "  </tbody>\n",
       "</table>\n",
       "<p>5 rows × 35 columns</p>\n",
       "</div>"
      ],
      "text/plain": [
       "                          Registration_Date  Var1  Var2  Var3  Var4  Var5  \\\n",
       "Patient_ID Health_Camp_ID                                                   \n",
       "486243     6526                  2004-12-02     1   0.0   0.0   0.0   0.0   \n",
       "504508     6580                  2004-11-20     1   0.0   0.0   0.0   1.0   \n",
       "519630     6538                  2004-12-02     1   0.0   0.0   0.0   0.0   \n",
       "517351     6538                  2004-01-22     1   0.0   0.0   0.0   0.0   \n",
       "510776     6526                  2005-01-01     1   0.0   0.0   0.0   0.0   \n",
       "\n",
       "                           Health_Camp_Score_1 Health_Camp_Attended_1  \\\n",
       "Patient_ID Health_Camp_ID                                               \n",
       "486243     6526                            NaN                  False   \n",
       "504508     6580                            NaN                  False   \n",
       "519630     6538                            NaN                  False   \n",
       "517351     6538                            NaN                  False   \n",
       "510776     6526                            NaN                  False   \n",
       "\n",
       "                           Health_Camp_Score_2 Health_Camp_Attended_2  ...   \\\n",
       "Patient_ID Health_Camp_ID                                              ...    \n",
       "486243     6526                            NaN                  False  ...    \n",
       "504508     6580                            NaN                  False  ...    \n",
       "519630     6538                            NaN                  False  ...    \n",
       "517351     6538                            NaN                  False  ...    \n",
       "510776     6526                            NaN                  False  ...    \n",
       "\n",
       "                           First_Interaction City_Type Employer_Category  \\\n",
       "Patient_ID Health_Camp_ID                                                  \n",
       "486243     6526                   2003-07-23         B               NaN   \n",
       "504508     6580                   2003-05-24         Z               NaN   \n",
       "519630     6538                   2003-04-07         B        Technology   \n",
       "517351     6538                   2003-02-08         B               NaN   \n",
       "510776     6526                   2004-09-08         Z               NaN   \n",
       "\n",
       "                          reg_num rep_reg rep_reg_bin has_var  online  age_b  \\\n",
       "Patient_ID Health_Camp_ID                                                      \n",
       "486243     6526                 2    True           2    True       0      3   \n",
       "504508     6580                 0   False          -1    True       0     -1   \n",
       "519630     6538                 2    True           2    True       0      2   \n",
       "517351     6538                 0   False          -1    True       0     -1   \n",
       "510776     6526                 2    True           2    True       0     -1   \n",
       "\n",
       "                           v1_b  \n",
       "Patient_ID Health_Camp_ID        \n",
       "486243     6526               1  \n",
       "504508     6580               1  \n",
       "519630     6538               1  \n",
       "517351     6538               1  \n",
       "510776     6526               1  \n",
       "\n",
       "[5 rows x 35 columns]"
      ]
     },
     "execution_count": 7,
     "metadata": {},
     "output_type": "execute_result"
    }
   ],
   "source": [
    "### var1-5 train_data\n",
    "vars = ['Var2','Var3','Var4','Var5']\n",
    "from sklearn.preprocessing import Normalizer\n",
    "scaler = {}\n",
    "for var in vars:\n",
    "    scaler[var] = Normalizer().fit(train_data[var].reshape(-1,1))\n",
    "    train_data[var] = scaler[var].transform(train_data[var].reshape(-1,1)).reshape(1,-1)[0]\n",
    "\n",
    "# bin for Var1\n",
    "### v1_b\n",
    "# define a bin size\n",
    "size = 5\n",
    "scaler['Var1'] = np.logspace(np.log2(.99), np.log2(train_data.Var1.max()), size, endpoint=True, base=2)\n",
    "print(scaler['Var1'])\n",
    "train_data['v1_b'] = pd.cut(train_data.Var1, scaler['Var1']).cat.rename_categories([1,2,3,4])\n",
    "train_data['v1_b'] = train_data['v1_b'].cat.add_categories(-1)\n",
    "train_data['v1_b'] = train_data['v1_b'].fillna(-1)\n",
    "\n",
    "train_data[train_data['Var1'] == 1].head()"
   ]
  },
  {
   "cell_type": "code",
   "execution_count": 8,
   "metadata": {
    "collapsed": false,
    "scrolled": false
   },
   "outputs": [
    {
     "data": {
      "text/html": [
       "<div>\n",
       "<table border=\"1\" class=\"dataframe\">\n",
       "  <thead>\n",
       "    <tr style=\"text-align: right;\">\n",
       "      <th></th>\n",
       "      <th></th>\n",
       "      <th>Registration_Date</th>\n",
       "      <th>Var1</th>\n",
       "      <th>Var2</th>\n",
       "      <th>Var3</th>\n",
       "      <th>Var4</th>\n",
       "      <th>Var5</th>\n",
       "      <th>Camp_Start_Date</th>\n",
       "      <th>Camp_End_Date</th>\n",
       "      <th>Category1</th>\n",
       "      <th>Category2</th>\n",
       "      <th>...</th>\n",
       "      <th>Age</th>\n",
       "      <th>First_Interaction</th>\n",
       "      <th>City_Type</th>\n",
       "      <th>Employer_Category</th>\n",
       "      <th>reg_num</th>\n",
       "      <th>rep_reg</th>\n",
       "      <th>rep_reg_bin</th>\n",
       "      <th>has_var</th>\n",
       "      <th>online</th>\n",
       "      <th>age_b</th>\n",
       "    </tr>\n",
       "    <tr>\n",
       "      <th>Patient_ID</th>\n",
       "      <th>Health_Camp_ID</th>\n",
       "      <th></th>\n",
       "      <th></th>\n",
       "      <th></th>\n",
       "      <th></th>\n",
       "      <th></th>\n",
       "      <th></th>\n",
       "      <th></th>\n",
       "      <th></th>\n",
       "      <th></th>\n",
       "      <th></th>\n",
       "      <th></th>\n",
       "      <th></th>\n",
       "      <th></th>\n",
       "      <th></th>\n",
       "      <th></th>\n",
       "      <th></th>\n",
       "      <th></th>\n",
       "      <th></th>\n",
       "      <th></th>\n",
       "      <th></th>\n",
       "      <th></th>\n",
       "    </tr>\n",
       "  </thead>\n",
       "  <tbody>\n",
       "    <tr>\n",
       "      <th>505701</th>\n",
       "      <th>6548</th>\n",
       "      <td>2006-05-21</td>\n",
       "      <td>1</td>\n",
       "      <td>0</td>\n",
       "      <td>0</td>\n",
       "      <td>0</td>\n",
       "      <td>2</td>\n",
       "      <td>2006-06-13</td>\n",
       "      <td>2006-08-18</td>\n",
       "      <td>Third</td>\n",
       "      <td>G</td>\n",
       "      <td>...</td>\n",
       "      <td>44.0</td>\n",
       "      <td>2003-02-05</td>\n",
       "      <td>E</td>\n",
       "      <td>NaN</td>\n",
       "      <td>2</td>\n",
       "      <td>True</td>\n",
       "      <td>2</td>\n",
       "      <td>True</td>\n",
       "      <td>0</td>\n",
       "      <td>3</td>\n",
       "    </tr>\n",
       "    <tr>\n",
       "      <th>500633</th>\n",
       "      <th>6584</th>\n",
       "      <td>2006-06-02</td>\n",
       "      <td>0</td>\n",
       "      <td>0</td>\n",
       "      <td>0</td>\n",
       "      <td>0</td>\n",
       "      <td>0</td>\n",
       "      <td>2006-08-04</td>\n",
       "      <td>2006-08-09</td>\n",
       "      <td>Second</td>\n",
       "      <td>A</td>\n",
       "      <td>...</td>\n",
       "      <td>41.0</td>\n",
       "      <td>2004-12-11</td>\n",
       "      <td>D</td>\n",
       "      <td>Consulting</td>\n",
       "      <td>1</td>\n",
       "      <td>True</td>\n",
       "      <td>1</td>\n",
       "      <td>False</td>\n",
       "      <td>1</td>\n",
       "      <td>3</td>\n",
       "    </tr>\n",
       "    <tr>\n",
       "      <th>506945</th>\n",
       "      <th>6582</th>\n",
       "      <td>2006-08-10</td>\n",
       "      <td>0</td>\n",
       "      <td>0</td>\n",
       "      <td>0</td>\n",
       "      <td>0</td>\n",
       "      <td>0</td>\n",
       "      <td>2006-04-06</td>\n",
       "      <td>2007-11-07</td>\n",
       "      <td>First</td>\n",
       "      <td>F</td>\n",
       "      <td>...</td>\n",
       "      <td>NaN</td>\n",
       "      <td>2006-04-19</td>\n",
       "      <td>Z</td>\n",
       "      <td>NaN</td>\n",
       "      <td>3</td>\n",
       "      <td>True</td>\n",
       "      <td>3</td>\n",
       "      <td>False</td>\n",
       "      <td>0</td>\n",
       "      <td>-1</td>\n",
       "    </tr>\n",
       "    <tr>\n",
       "      <th>497447</th>\n",
       "      <th>6551</th>\n",
       "      <td>2006-08-27</td>\n",
       "      <td>0</td>\n",
       "      <td>0</td>\n",
       "      <td>0</td>\n",
       "      <td>0</td>\n",
       "      <td>0</td>\n",
       "      <td>2006-11-13</td>\n",
       "      <td>2006-11-18</td>\n",
       "      <td>Second</td>\n",
       "      <td>D</td>\n",
       "      <td>...</td>\n",
       "      <td>47.0</td>\n",
       "      <td>2006-08-25</td>\n",
       "      <td>B</td>\n",
       "      <td>NaN</td>\n",
       "      <td>1</td>\n",
       "      <td>True</td>\n",
       "      <td>1</td>\n",
       "      <td>False</td>\n",
       "      <td>0</td>\n",
       "      <td>3</td>\n",
       "    </tr>\n",
       "    <tr>\n",
       "      <th>496446</th>\n",
       "      <th>6533</th>\n",
       "      <td>2006-09-19</td>\n",
       "      <td>0</td>\n",
       "      <td>0</td>\n",
       "      <td>0</td>\n",
       "      <td>0</td>\n",
       "      <td>0</td>\n",
       "      <td>2006-09-20</td>\n",
       "      <td>2006-09-23</td>\n",
       "      <td>First</td>\n",
       "      <td>E</td>\n",
       "      <td>...</td>\n",
       "      <td>NaN</td>\n",
       "      <td>2006-09-19</td>\n",
       "      <td>B</td>\n",
       "      <td>NaN</td>\n",
       "      <td>0</td>\n",
       "      <td>False</td>\n",
       "      <td>-1</td>\n",
       "      <td>False</td>\n",
       "      <td>0</td>\n",
       "      <td>-1</td>\n",
       "    </tr>\n",
       "  </tbody>\n",
       "</table>\n",
       "<p>5 rows × 27 columns</p>\n",
       "</div>"
      ],
      "text/plain": [
       "                          Registration_Date  Var1  Var2  Var3  Var4  Var5  \\\n",
       "Patient_ID Health_Camp_ID                                                   \n",
       "505701     6548                  2006-05-21     1     0     0     0     2   \n",
       "500633     6584                  2006-06-02     0     0     0     0     0   \n",
       "506945     6582                  2006-08-10     0     0     0     0     0   \n",
       "497447     6551                  2006-08-27     0     0     0     0     0   \n",
       "496446     6533                  2006-09-19     0     0     0     0     0   \n",
       "\n",
       "                          Camp_Start_Date Camp_End_Date Category1 Category2  \\\n",
       "Patient_ID Health_Camp_ID                                                     \n",
       "505701     6548                2006-06-13    2006-08-18     Third         G   \n",
       "500633     6584                2006-08-04    2006-08-09    Second         A   \n",
       "506945     6582                2006-04-06    2007-11-07     First         F   \n",
       "497447     6551                2006-11-13    2006-11-18    Second         D   \n",
       "496446     6533                2006-09-20    2006-09-23     First         E   \n",
       "\n",
       "                           ...    Age  First_Interaction  City_Type  \\\n",
       "Patient_ID Health_Camp_ID  ...                                        \n",
       "505701     6548            ...   44.0         2003-02-05          E   \n",
       "500633     6584            ...   41.0         2004-12-11          D   \n",
       "506945     6582            ...    NaN         2006-04-19          Z   \n",
       "497447     6551            ...   47.0         2006-08-25          B   \n",
       "496446     6533            ...    NaN         2006-09-19          B   \n",
       "\n",
       "                           Employer_Category  reg_num rep_reg rep_reg_bin  \\\n",
       "Patient_ID Health_Camp_ID                                                   \n",
       "505701     6548                          NaN        2    True           2   \n",
       "500633     6584                   Consulting        1    True           1   \n",
       "506945     6582                          NaN        3    True           3   \n",
       "497447     6551                          NaN        1    True           1   \n",
       "496446     6533                          NaN        0   False          -1   \n",
       "\n",
       "                           has_var online age_b  \n",
       "Patient_ID Health_Camp_ID                        \n",
       "505701     6548               True      0     3  \n",
       "500633     6584              False      1     3  \n",
       "506945     6582              False      0    -1  \n",
       "497447     6551              False      0     3  \n",
       "496446     6533              False      0    -1  \n",
       "\n",
       "[5 rows x 27 columns]"
      ]
     },
     "execution_count": 8,
     "metadata": {},
     "output_type": "execute_result"
    }
   ],
   "source": [
    "test_data = getData(loadTestData())\n",
    "drops = ['Health_Camp_Score_1','Health_Camp_Attended_1','Health_Camp_Score_2','Health_Camp_Attended_2','Health_Camp_Stalls_3','Health_Camp_Attended_3','Positive_Result']\n",
    "for col in drops:\n",
    "    test_data.pop(col)\n",
    "test_data.head()"
   ]
  },
  {
   "cell_type": "code",
   "execution_count": 9,
   "metadata": {
    "collapsed": false
   },
   "outputs": [
    {
     "name": "stderr",
     "output_type": "stream",
     "text": [
      "/Users/chrisbarnard/anaconda/lib/python3.5/site-packages/sklearn/utils/validation.py:420: DataConversionWarning: Data with input dtype int64 was converted to float64 by the normalize function.\n",
      "  warnings.warn(msg, DataConversionWarning)\n",
      "/Users/chrisbarnard/anaconda/lib/python3.5/site-packages/sklearn/utils/validation.py:420: DataConversionWarning: Data with input dtype int64 was converted to float64 by the normalize function.\n",
      "  warnings.warn(msg, DataConversionWarning)\n",
      "/Users/chrisbarnard/anaconda/lib/python3.5/site-packages/sklearn/utils/validation.py:420: DataConversionWarning: Data with input dtype int64 was converted to float64 by the normalize function.\n",
      "  warnings.warn(msg, DataConversionWarning)\n",
      "/Users/chrisbarnard/anaconda/lib/python3.5/site-packages/sklearn/utils/validation.py:420: DataConversionWarning: Data with input dtype int64 was converted to float64 by the normalize function.\n",
      "  warnings.warn(msg, DataConversionWarning)\n"
     ]
    },
    {
     "data": {
      "text/html": [
       "<div>\n",
       "<table border=\"1\" class=\"dataframe\">\n",
       "  <thead>\n",
       "    <tr style=\"text-align: right;\">\n",
       "      <th></th>\n",
       "      <th></th>\n",
       "      <th>Registration_Date</th>\n",
       "      <th>Var1</th>\n",
       "      <th>Var2</th>\n",
       "      <th>Var3</th>\n",
       "      <th>Var4</th>\n",
       "      <th>Var5</th>\n",
       "      <th>Camp_Start_Date</th>\n",
       "      <th>Camp_End_Date</th>\n",
       "      <th>Category1</th>\n",
       "      <th>Category2</th>\n",
       "      <th>...</th>\n",
       "      <th>First_Interaction</th>\n",
       "      <th>City_Type</th>\n",
       "      <th>Employer_Category</th>\n",
       "      <th>reg_num</th>\n",
       "      <th>rep_reg</th>\n",
       "      <th>rep_reg_bin</th>\n",
       "      <th>has_var</th>\n",
       "      <th>online</th>\n",
       "      <th>age_b</th>\n",
       "      <th>v1_b</th>\n",
       "    </tr>\n",
       "    <tr>\n",
       "      <th>Patient_ID</th>\n",
       "      <th>Health_Camp_ID</th>\n",
       "      <th></th>\n",
       "      <th></th>\n",
       "      <th></th>\n",
       "      <th></th>\n",
       "      <th></th>\n",
       "      <th></th>\n",
       "      <th></th>\n",
       "      <th></th>\n",
       "      <th></th>\n",
       "      <th></th>\n",
       "      <th></th>\n",
       "      <th></th>\n",
       "      <th></th>\n",
       "      <th></th>\n",
       "      <th></th>\n",
       "      <th></th>\n",
       "      <th></th>\n",
       "      <th></th>\n",
       "      <th></th>\n",
       "      <th></th>\n",
       "      <th></th>\n",
       "    </tr>\n",
       "  </thead>\n",
       "  <tbody>\n",
       "    <tr>\n",
       "      <th>505701</th>\n",
       "      <th>6548</th>\n",
       "      <td>2006-05-21</td>\n",
       "      <td>1</td>\n",
       "      <td>0.0</td>\n",
       "      <td>0.0</td>\n",
       "      <td>0.0</td>\n",
       "      <td>1.0</td>\n",
       "      <td>2006-06-13</td>\n",
       "      <td>2006-08-18</td>\n",
       "      <td>Third</td>\n",
       "      <td>G</td>\n",
       "      <td>...</td>\n",
       "      <td>2003-02-05</td>\n",
       "      <td>E</td>\n",
       "      <td>NaN</td>\n",
       "      <td>2</td>\n",
       "      <td>True</td>\n",
       "      <td>2</td>\n",
       "      <td>True</td>\n",
       "      <td>0</td>\n",
       "      <td>3</td>\n",
       "      <td>1</td>\n",
       "    </tr>\n",
       "    <tr>\n",
       "      <th>500633</th>\n",
       "      <th>6584</th>\n",
       "      <td>2006-06-02</td>\n",
       "      <td>0</td>\n",
       "      <td>0.0</td>\n",
       "      <td>0.0</td>\n",
       "      <td>0.0</td>\n",
       "      <td>0.0</td>\n",
       "      <td>2006-08-04</td>\n",
       "      <td>2006-08-09</td>\n",
       "      <td>Second</td>\n",
       "      <td>A</td>\n",
       "      <td>...</td>\n",
       "      <td>2004-12-11</td>\n",
       "      <td>D</td>\n",
       "      <td>Consulting</td>\n",
       "      <td>1</td>\n",
       "      <td>True</td>\n",
       "      <td>1</td>\n",
       "      <td>False</td>\n",
       "      <td>1</td>\n",
       "      <td>3</td>\n",
       "      <td>-1</td>\n",
       "    </tr>\n",
       "    <tr>\n",
       "      <th>506945</th>\n",
       "      <th>6582</th>\n",
       "      <td>2006-08-10</td>\n",
       "      <td>0</td>\n",
       "      <td>0.0</td>\n",
       "      <td>0.0</td>\n",
       "      <td>0.0</td>\n",
       "      <td>0.0</td>\n",
       "      <td>2006-04-06</td>\n",
       "      <td>2007-11-07</td>\n",
       "      <td>First</td>\n",
       "      <td>F</td>\n",
       "      <td>...</td>\n",
       "      <td>2006-04-19</td>\n",
       "      <td>Z</td>\n",
       "      <td>NaN</td>\n",
       "      <td>3</td>\n",
       "      <td>True</td>\n",
       "      <td>3</td>\n",
       "      <td>False</td>\n",
       "      <td>0</td>\n",
       "      <td>-1</td>\n",
       "      <td>-1</td>\n",
       "    </tr>\n",
       "    <tr>\n",
       "      <th>497447</th>\n",
       "      <th>6551</th>\n",
       "      <td>2006-08-27</td>\n",
       "      <td>0</td>\n",
       "      <td>0.0</td>\n",
       "      <td>0.0</td>\n",
       "      <td>0.0</td>\n",
       "      <td>0.0</td>\n",
       "      <td>2006-11-13</td>\n",
       "      <td>2006-11-18</td>\n",
       "      <td>Second</td>\n",
       "      <td>D</td>\n",
       "      <td>...</td>\n",
       "      <td>2006-08-25</td>\n",
       "      <td>B</td>\n",
       "      <td>NaN</td>\n",
       "      <td>1</td>\n",
       "      <td>True</td>\n",
       "      <td>1</td>\n",
       "      <td>False</td>\n",
       "      <td>0</td>\n",
       "      <td>3</td>\n",
       "      <td>-1</td>\n",
       "    </tr>\n",
       "    <tr>\n",
       "      <th>496446</th>\n",
       "      <th>6533</th>\n",
       "      <td>2006-09-19</td>\n",
       "      <td>0</td>\n",
       "      <td>0.0</td>\n",
       "      <td>0.0</td>\n",
       "      <td>0.0</td>\n",
       "      <td>0.0</td>\n",
       "      <td>2006-09-20</td>\n",
       "      <td>2006-09-23</td>\n",
       "      <td>First</td>\n",
       "      <td>E</td>\n",
       "      <td>...</td>\n",
       "      <td>2006-09-19</td>\n",
       "      <td>B</td>\n",
       "      <td>NaN</td>\n",
       "      <td>0</td>\n",
       "      <td>False</td>\n",
       "      <td>-1</td>\n",
       "      <td>False</td>\n",
       "      <td>0</td>\n",
       "      <td>-1</td>\n",
       "      <td>-1</td>\n",
       "    </tr>\n",
       "  </tbody>\n",
       "</table>\n",
       "<p>5 rows × 28 columns</p>\n",
       "</div>"
      ],
      "text/plain": [
       "                          Registration_Date  Var1  Var2  Var3  Var4  Var5  \\\n",
       "Patient_ID Health_Camp_ID                                                   \n",
       "505701     6548                  2006-05-21     1   0.0   0.0   0.0   1.0   \n",
       "500633     6584                  2006-06-02     0   0.0   0.0   0.0   0.0   \n",
       "506945     6582                  2006-08-10     0   0.0   0.0   0.0   0.0   \n",
       "497447     6551                  2006-08-27     0   0.0   0.0   0.0   0.0   \n",
       "496446     6533                  2006-09-19     0   0.0   0.0   0.0   0.0   \n",
       "\n",
       "                          Camp_Start_Date Camp_End_Date Category1 Category2  \\\n",
       "Patient_ID Health_Camp_ID                                                     \n",
       "505701     6548                2006-06-13    2006-08-18     Third         G   \n",
       "500633     6584                2006-08-04    2006-08-09    Second         A   \n",
       "506945     6582                2006-04-06    2007-11-07     First         F   \n",
       "497447     6551                2006-11-13    2006-11-18    Second         D   \n",
       "496446     6533                2006-09-20    2006-09-23     First         E   \n",
       "\n",
       "                          ...   First_Interaction  City_Type  \\\n",
       "Patient_ID Health_Camp_ID ...                                  \n",
       "505701     6548           ...          2003-02-05          E   \n",
       "500633     6584           ...          2004-12-11          D   \n",
       "506945     6582           ...          2006-04-19          Z   \n",
       "497447     6551           ...          2006-08-25          B   \n",
       "496446     6533           ...          2006-09-19          B   \n",
       "\n",
       "                           Employer_Category  reg_num  rep_reg rep_reg_bin  \\\n",
       "Patient_ID Health_Camp_ID                                                    \n",
       "505701     6548                          NaN        2     True           2   \n",
       "500633     6584                   Consulting        1     True           1   \n",
       "506945     6582                          NaN        3     True           3   \n",
       "497447     6551                          NaN        1     True           1   \n",
       "496446     6533                          NaN        0    False          -1   \n",
       "\n",
       "                          has_var  online age_b v1_b  \n",
       "Patient_ID Health_Camp_ID                             \n",
       "505701     6548              True       0     3    1  \n",
       "500633     6584             False       1     3   -1  \n",
       "506945     6582             False       0    -1   -1  \n",
       "497447     6551             False       0     3   -1  \n",
       "496446     6533             False       0    -1   -1  \n",
       "\n",
       "[5 rows x 28 columns]"
      ]
     },
     "execution_count": 9,
     "metadata": {},
     "output_type": "execute_result"
    }
   ],
   "source": [
    "### var1-5 test_data\n",
    "for var in vars:\n",
    "    test_data[var] = scaler[var].transform(test_data[var].reshape(-1,1)).reshape(1,-1)[0]\n",
    "\n",
    "test_data['v1_b'] = pd.cut(test_data.Var1, scaler['Var1']).cat.rename_categories([1,2,3,4])\n",
    "test_data['v1_b'] = test_data['v1_b'].cat.add_categories(-1)\n",
    "test_data['v1_b'] = test_data['v1_b'].fillna(-1)\n",
    "\n",
    "test_data.head()"
   ]
  },
  {
   "cell_type": "markdown",
   "metadata": {},
   "source": [
    "# Begin Exploratory Analysis\n",
    "## Looking into what the variables tell us\n",
    "### Categorie1 of the HealthCampDetail\n",
    "There seems to be a horrible pull-through on the First value for Category1"
   ]
  },
  {
   "cell_type": "code",
   "execution_count": 10,
   "metadata": {
    "collapsed": false,
    "scrolled": true
   },
   "outputs": [
    {
     "data": {
      "text/plain": [
       "<matplotlib.axes._subplots.AxesSubplot at 0x11ba9ebe0>"
      ]
     },
     "execution_count": 10,
     "metadata": {},
     "output_type": "execute_result"
    },
    {
     "data": {
      "image/png": "[encoded data removed]",
      "text/plain": [
       "<matplotlib.figure.Figure at 0x116a0a828>"
      ]
     },
     "metadata": {},
     "output_type": "display_data"
    }
   ],
   "source": [
    "cat_1 = train_data[['Category1','Positive_Result']].groupby(['Positive_Result','Category1']).size().unstack(0)\n",
    "cat_1.plot(kind='bar', color=['red','green'], title='Number of People in Category', figsize=(8,2))"
   ]
  },
  {
   "cell_type": "code",
   "execution_count": 11,
   "metadata": {
    "collapsed": false
   },
   "outputs": [
    {
     "data": {
      "text/plain": [
       "array([<matplotlib.axes._subplots.AxesSubplot object at 0x1179a36d8>], dtype=object)"
      ]
     },
     "execution_count": 11,
     "metadata": {},
     "output_type": "execute_result"
    },
    {
     "data": {
      "image/png": "[encoded data removed]",
      "text/plain": [
       "<matplotlib.figure.Figure at 0x116dfca58>"
      ]
     },
     "metadata": {},
     "output_type": "display_data"
    }
   ],
   "source": [
    "ts = train_data[['Positive_Result','Registration_Date','Category1']].set_index('Registration_Date')\n",
    "grouped = ts.groupby([lambda x: (x.year, x.month), 'Category1']).sum()\n",
    "grouped2 = ts.groupby([lambda x: (x.year, x.month), 'Category1']).size()\n",
    "grouped.plot(color='green')\n",
    "grouped2.plot(subplots=True, color='black', title='Total Registrations by month vs Positive Results')"
   ]
  },
  {
   "cell_type": "code",
   "execution_count": 12,
   "metadata": {
    "collapsed": false
   },
   "outputs": [
    {
     "data": {
      "text/plain": [
       "<matplotlib.axes._subplots.AxesSubplot at 0x1179b17f0>"
      ]
     },
     "execution_count": 12,
     "metadata": {},
     "output_type": "execute_result"
    },
    {
     "data": {
      "image/png": "[encoded data removed]",
      "text/plain": [
       "<matplotlib.figure.Figure at 0x116e353c8>"
      ]
     },
     "metadata": {},
     "output_type": "display_data"
    }
   ],
   "source": [
    "ts = train_data[['Positive_Result','Registration_Date','Category1']]\n",
    "grouped = ts.groupby(['Registration_Date', 'Category1'])\n",
    "#grouped2 = ts.groupby([lambda x: (x.year, x.month), 'Category1']).size()\n",
    "df = grouped.sum()\n",
    "df['Total'] = grouped.count()\n",
    "\n",
    "monthly = df.unstack().groupby(lambda x: (x.year, x.month)).sum()\n",
    "#monthly['positive_pct'] = monthly['Positive_Result'] / monthly['Total']\n",
    "pull_through_monthly = monthly['Positive_Result'] / monthly['Total']\n",
    "#monthly\n",
    "pull_through_monthly.plot(title='Pull through by Category1 type')"
   ]
  },
  {
   "cell_type": "code",
   "execution_count": 13,
   "metadata": {
    "collapsed": false
   },
   "outputs": [
    {
     "data": {
      "text/plain": [
       "<matplotlib.axes._subplots.AxesSubplot at 0x11ba365f8>"
      ]
     },
     "execution_count": 13,
     "metadata": {},
     "output_type": "execute_result"
    },
    {
     "data": {
      "image/png": "[encoded data removed]",
      "text/plain": [
       "<matplotlib.figure.Figure at 0x118105470>"
      ]
     },
     "metadata": {},
     "output_type": "display_data"
    }
   ],
   "source": [
    "monthly['Positive_Result'].cumsum().plot(title='Total Positive reponses by Category type', kind='line')"
   ]
  },
  {
   "cell_type": "markdown",
   "metadata": {},
   "source": [
    "### OK, Let's look at category1 compared to Health_Camp_Attended\n",
    "It seems that category1 perfectly matches which health camp they attended"
   ]
  },
  {
   "cell_type": "code",
   "execution_count": 14,
   "metadata": {
    "collapsed": false
   },
   "outputs": [
    {
     "name": "stderr",
     "output_type": "stream",
     "text": [
      "/Users/chrisbarnard/anaconda/lib/python3.5/site-packages/ipykernel/__main__.py:2: SettingWithCopyWarning: \n",
      "A value is trying to be set on a copy of a slice from a DataFrame.\n",
      "Try using .loc[row_indexer,col_indexer] = value instead\n",
      "\n",
      "See the caveats in the documentation: http://pandas.pydata.org/pandas-docs/stable/indexing.html#indexing-view-versus-copy\n",
      "  from ipykernel import kernelapp as app\n"
     ]
    },
    {
     "data": {
      "text/html": [
       "<div>\n",
       "<table border=\"1\" class=\"dataframe\">\n",
       "  <thead>\n",
       "    <tr>\n",
       "      <th>Health_Camp_Attended_1</th>\n",
       "      <th colspan=\"3\" halign=\"left\">False</th>\n",
       "      <th>True</th>\n",
       "    </tr>\n",
       "    <tr>\n",
       "      <th>Health_Camp_Attended_2</th>\n",
       "      <th colspan=\"2\" halign=\"left\">False</th>\n",
       "      <th>True</th>\n",
       "      <th>False</th>\n",
       "    </tr>\n",
       "    <tr>\n",
       "      <th>Health_Camp_Attended_3</th>\n",
       "      <th>False</th>\n",
       "      <th>True</th>\n",
       "      <th>False</th>\n",
       "      <th>False</th>\n",
       "    </tr>\n",
       "    <tr>\n",
       "      <th>Category1</th>\n",
       "      <th></th>\n",
       "      <th></th>\n",
       "      <th></th>\n",
       "      <th></th>\n",
       "    </tr>\n",
       "  </thead>\n",
       "  <tbody>\n",
       "    <tr>\n",
       "      <th>First</th>\n",
       "      <td>1.0</td>\n",
       "      <td>NaN</td>\n",
       "      <td>NaN</td>\n",
       "      <td>1.0</td>\n",
       "    </tr>\n",
       "    <tr>\n",
       "      <th>Second</th>\n",
       "      <td>1.0</td>\n",
       "      <td>NaN</td>\n",
       "      <td>1.0</td>\n",
       "      <td>NaN</td>\n",
       "    </tr>\n",
       "    <tr>\n",
       "      <th>Third</th>\n",
       "      <td>1.0</td>\n",
       "      <td>1.0</td>\n",
       "      <td>NaN</td>\n",
       "      <td>NaN</td>\n",
       "    </tr>\n",
       "  </tbody>\n",
       "</table>\n",
       "</div>"
      ],
      "text/plain": [
       "Health_Camp_Attended_1 False             True \n",
       "Health_Camp_Attended_2 False       True  False\n",
       "Health_Camp_Attended_3 False True  False False\n",
       "Category1                                     \n",
       "First                    1.0   NaN   NaN   1.0\n",
       "Second                   1.0   NaN   1.0   NaN\n",
       "Third                    1.0   1.0   NaN   NaN"
      ]
     },
     "execution_count": 14,
     "metadata": {},
     "output_type": "execute_result"
    }
   ],
   "source": [
    "df = train_data[['Health_Camp_Score_1','Health_Camp_Score_2','Health_Camp_Stalls_3','Health_Camp_Attended_1','Health_Camp_Attended_2','Health_Camp_Attended_3','Category1']]\n",
    "df['counter'] = 1\n",
    "df.pivot_table(values='counter', index='Category1', columns=['Health_Camp_Attended_1','Health_Camp_Attended_2','Health_Camp_Attended_3'])"
   ]
  },
  {
   "cell_type": "markdown",
   "metadata": {},
   "source": [
    "### Category2"
   ]
  },
  {
   "cell_type": "code",
   "execution_count": 15,
   "metadata": {
    "collapsed": false,
    "scrolled": true
   },
   "outputs": [
    {
     "data": {
      "text/plain": [
       "<matplotlib.axes._subplots.AxesSubplot at 0x1178b7f98>"
      ]
     },
     "execution_count": 15,
     "metadata": {},
     "output_type": "execute_result"
    },
    {
     "data": {
      "image/png": "[encoded data removed]",
      "text/plain": [
       "<matplotlib.figure.Figure at 0x116bc5a20>"
      ]
     },
     "metadata": {},
     "output_type": "display_data"
    }
   ],
   "source": [
    "df = train_data[['Category2','Positive_Result','Health_Camp_Attended_1','Health_Camp_Attended_2','Health_Camp_Attended_3','Category1','Category3']]\n",
    "grouped = df.groupby(['Category2','Positive_Result'])\n",
    "grouped.size().unstack()\n",
    "grouped.size().unstack().plot(kind='bar', color=['red','green'])"
   ]
  },
  {
   "cell_type": "markdown",
   "metadata": {},
   "source": [
    "#### Let's bring in category1 to confirm that E & F are the same spike before\n",
    "And E and F were indead all from the first category of camps"
   ]
  },
  {
   "cell_type": "code",
   "execution_count": 16,
   "metadata": {
    "collapsed": false
   },
   "outputs": [
    {
     "data": {
      "text/html": [
       "<div>\n",
       "<table border=\"1\" class=\"dataframe\">\n",
       "  <thead>\n",
       "    <tr>\n",
       "      <th>Positive_Result</th>\n",
       "      <th colspan=\"3\" halign=\"left\">False</th>\n",
       "      <th colspan=\"3\" halign=\"left\">True</th>\n",
       "    </tr>\n",
       "    <tr>\n",
       "      <th>Category1</th>\n",
       "      <th>Second</th>\n",
       "      <th>First</th>\n",
       "      <th>Third</th>\n",
       "      <th>Second</th>\n",
       "      <th>First</th>\n",
       "      <th>Third</th>\n",
       "    </tr>\n",
       "    <tr>\n",
       "      <th>Category2</th>\n",
       "      <th></th>\n",
       "      <th></th>\n",
       "      <th></th>\n",
       "      <th></th>\n",
       "      <th></th>\n",
       "      <th></th>\n",
       "    </tr>\n",
       "  </thead>\n",
       "  <tbody>\n",
       "    <tr>\n",
       "      <th>A</th>\n",
       "      <td>5554.0</td>\n",
       "      <td>NaN</td>\n",
       "      <td>NaN</td>\n",
       "      <td>5439.0</td>\n",
       "      <td>NaN</td>\n",
       "      <td>NaN</td>\n",
       "    </tr>\n",
       "    <tr>\n",
       "      <th>B</th>\n",
       "      <td>NaN</td>\n",
       "      <td>2039.0</td>\n",
       "      <td>NaN</td>\n",
       "      <td>NaN</td>\n",
       "      <td>387.0</td>\n",
       "      <td>NaN</td>\n",
       "    </tr>\n",
       "    <tr>\n",
       "      <th>C</th>\n",
       "      <td>NaN</td>\n",
       "      <td>1163.0</td>\n",
       "      <td>NaN</td>\n",
       "      <td>NaN</td>\n",
       "      <td>655.0</td>\n",
       "      <td>NaN</td>\n",
       "    </tr>\n",
       "    <tr>\n",
       "      <th>D</th>\n",
       "      <td>1741.0</td>\n",
       "      <td>NaN</td>\n",
       "      <td>NaN</td>\n",
       "      <td>2380.0</td>\n",
       "      <td>NaN</td>\n",
       "      <td>NaN</td>\n",
       "    </tr>\n",
       "    <tr>\n",
       "      <th>E</th>\n",
       "      <td>NaN</td>\n",
       "      <td>18813.0</td>\n",
       "      <td>NaN</td>\n",
       "      <td>NaN</td>\n",
       "      <td>2175.0</td>\n",
       "      <td>NaN</td>\n",
       "    </tr>\n",
       "    <tr>\n",
       "      <th>F</th>\n",
       "      <td>NaN</td>\n",
       "      <td>21659.0</td>\n",
       "      <td>NaN</td>\n",
       "      <td>NaN</td>\n",
       "      <td>3001.0</td>\n",
       "      <td>NaN</td>\n",
       "    </tr>\n",
       "    <tr>\n",
       "      <th>G</th>\n",
       "      <td>NaN</td>\n",
       "      <td>NaN</td>\n",
       "      <td>3775.0</td>\n",
       "      <td>NaN</td>\n",
       "      <td>NaN</td>\n",
       "      <td>6497.0</td>\n",
       "    </tr>\n",
       "  </tbody>\n",
       "</table>\n",
       "</div>"
      ],
      "text/plain": [
       "Positive_Result   False                    True                 \n",
       "Category1        Second    First   Third  Second   First   Third\n",
       "Category2                                                       \n",
       "A                5554.0      NaN     NaN  5439.0     NaN     NaN\n",
       "B                   NaN   2039.0     NaN     NaN   387.0     NaN\n",
       "C                   NaN   1163.0     NaN     NaN   655.0     NaN\n",
       "D                1741.0      NaN     NaN  2380.0     NaN     NaN\n",
       "E                   NaN  18813.0     NaN     NaN  2175.0     NaN\n",
       "F                   NaN  21659.0     NaN     NaN  3001.0     NaN\n",
       "G                   NaN      NaN  3775.0     NaN     NaN  6497.0"
      ]
     },
     "execution_count": 16,
     "metadata": {},
     "output_type": "execute_result"
    }
   ],
   "source": [
    "cols = ['Positive_Result','Category2','Category1']\n",
    "df.groupby(cols).size().unstack([0,2])"
   ]
  },
  {
   "cell_type": "markdown",
   "metadata": {},
   "source": [
    "### Category3\n",
    "It seems specific to the F and E values for category2.  Maybe this can help deal the large number of dropouts in that bucket.  The variable is very weighted towards a value of 2 for almost every value"
   ]
  },
  {
   "cell_type": "code",
   "execution_count": 17,
   "metadata": {
    "collapsed": false
   },
   "outputs": [
    {
     "data": {
      "text/html": [
       "<div>\n",
       "<table border=\"1\" class=\"dataframe\">\n",
       "  <thead>\n",
       "    <tr>\n",
       "      <th>Positive_Result</th>\n",
       "      <th colspan=\"2\" halign=\"left\">False</th>\n",
       "      <th colspan=\"2\" halign=\"left\">True</th>\n",
       "    </tr>\n",
       "    <tr>\n",
       "      <th>Category3</th>\n",
       "      <th>2</th>\n",
       "      <th>1</th>\n",
       "      <th>2</th>\n",
       "      <th>1</th>\n",
       "    </tr>\n",
       "    <tr>\n",
       "      <th>Category2</th>\n",
       "      <th></th>\n",
       "      <th></th>\n",
       "      <th></th>\n",
       "      <th></th>\n",
       "    </tr>\n",
       "  </thead>\n",
       "  <tbody>\n",
       "    <tr>\n",
       "      <th>A</th>\n",
       "      <td>5554.0</td>\n",
       "      <td>NaN</td>\n",
       "      <td>5439.0</td>\n",
       "      <td>NaN</td>\n",
       "    </tr>\n",
       "    <tr>\n",
       "      <th>B</th>\n",
       "      <td>2039.0</td>\n",
       "      <td>NaN</td>\n",
       "      <td>387.0</td>\n",
       "      <td>NaN</td>\n",
       "    </tr>\n",
       "    <tr>\n",
       "      <th>C</th>\n",
       "      <td>1163.0</td>\n",
       "      <td>NaN</td>\n",
       "      <td>655.0</td>\n",
       "      <td>NaN</td>\n",
       "    </tr>\n",
       "    <tr>\n",
       "      <th>D</th>\n",
       "      <td>1741.0</td>\n",
       "      <td>NaN</td>\n",
       "      <td>2380.0</td>\n",
       "      <td>NaN</td>\n",
       "    </tr>\n",
       "    <tr>\n",
       "      <th>E</th>\n",
       "      <td>18625.0</td>\n",
       "      <td>188.0</td>\n",
       "      <td>2084.0</td>\n",
       "      <td>91.0</td>\n",
       "    </tr>\n",
       "    <tr>\n",
       "      <th>F</th>\n",
       "      <td>21544.0</td>\n",
       "      <td>115.0</td>\n",
       "      <td>2988.0</td>\n",
       "      <td>13.0</td>\n",
       "    </tr>\n",
       "    <tr>\n",
       "      <th>G</th>\n",
       "      <td>3775.0</td>\n",
       "      <td>NaN</td>\n",
       "      <td>6497.0</td>\n",
       "      <td>NaN</td>\n",
       "    </tr>\n",
       "  </tbody>\n",
       "</table>\n",
       "</div>"
      ],
      "text/plain": [
       "Positive_Result    False          True       \n",
       "Category3              2      1       2     1\n",
       "Category2                                    \n",
       "A                 5554.0    NaN  5439.0   NaN\n",
       "B                 2039.0    NaN   387.0   NaN\n",
       "C                 1163.0    NaN   655.0   NaN\n",
       "D                 1741.0    NaN  2380.0   NaN\n",
       "E                18625.0  188.0  2084.0  91.0\n",
       "F                21544.0  115.0  2988.0  13.0\n",
       "G                 3775.0    NaN  6497.0   NaN"
      ]
     },
     "execution_count": 17,
     "metadata": {},
     "output_type": "execute_result"
    }
   ],
   "source": [
    "cols = ['Positive_Result','Category2','Category3']\n",
    "df.groupby(cols).size().unstack([0,2])"
   ]
  },
  {
   "cell_type": "code",
   "execution_count": 18,
   "metadata": {
    "collapsed": false
   },
   "outputs": [
    {
     "data": {
      "text/plain": [
       "<matplotlib.axes._subplots.AxesSubplot at 0x119febf98>"
      ]
     },
     "execution_count": 18,
     "metadata": {},
     "output_type": "execute_result"
    },
    {
     "data": {
      "image/png": "[encoded data removed]",
      "text/plain": [
       "<matplotlib.figure.Figure at 0x116ddce10>"
      ]
     },
     "metadata": {},
     "output_type": "display_data"
    }
   ],
   "source": [
    "train_data['Category3'].hist(bins=2)"
   ]
  },
  {
   "cell_type": "markdown",
   "metadata": {},
   "source": [
    "### Let's look at whether they have a previous Registration"
   ]
  },
  {
   "cell_type": "code",
   "execution_count": 19,
   "metadata": {
    "collapsed": false,
    "scrolled": false
   },
   "outputs": [
    {
     "data": {
      "text/plain": [
       "<matplotlib.axes._subplots.AxesSubplot at 0x119fa5128>"
      ]
     },
     "execution_count": 19,
     "metadata": {},
     "output_type": "execute_result"
    },
    {
     "data": {
      "image/png": "[encoded data removed]",
      "text/plain": [
       "<matplotlib.figure.Figure at 0x119fa2d68>"
      ]
     },
     "metadata": {},
     "output_type": "display_data"
    }
   ],
   "source": [
    "groups = train_data.groupby('rep_reg_bin')\n",
    "\n",
    "tot = groups.size()\n",
    "pos = groups.sum()['Positive_Result']\n",
    "pt = pos / tot\n",
    "df = pd.DataFrame()\n",
    "df['Total'] = tot\n",
    "df['Positive'] = pos\n",
    "\n",
    "df.plot(title='Patient Pull thru by number of registrations', kind='bar', color=['black', 'green'])\n"
   ]
  },
  {
   "cell_type": "code",
   "execution_count": 20,
   "metadata": {
    "collapsed": false
   },
   "outputs": [
    {
     "data": {
      "text/plain": [
       "<matplotlib.axes._subplots.AxesSubplot at 0x1181c7c18>"
      ]
     },
     "execution_count": 20,
     "metadata": {},
     "output_type": "execute_result"
    },
    {
     "data": {
      "image/png": "[encoded data removed]",
      "text/plain": [
       "<matplotlib.figure.Figure at 0x119257f28>"
      ]
     },
     "metadata": {},
     "output_type": "display_data"
    }
   ],
   "source": [
    "\n",
    "tot = groups.size()\n",
    "pos = groups.sum()['Positive_Result']\n",
    "pt = pos / tot\n",
    "\n",
    "pt.plot(title='Patient Pull thru by number of registrations', kind='bar')\n"
   ]
  },
  {
   "cell_type": "markdown",
   "metadata": {},
   "source": [
    "### Let's look at Var1-5\n",
    "These variables don't seem to be leading me anywhere, best result so far is just normalizing them to a binary flag\n",
    "#### has_var"
   ]
  },
  {
   "cell_type": "code",
   "execution_count": 21,
   "metadata": {
    "collapsed": false,
    "scrolled": true
   },
   "outputs": [
    {
     "data": {
      "text/html": [
       "<div>\n",
       "<table border=\"1\" class=\"dataframe\">\n",
       "  <thead>\n",
       "    <tr style=\"text-align: right;\">\n",
       "      <th>Positive_Result</th>\n",
       "      <th>False</th>\n",
       "      <th>True</th>\n",
       "    </tr>\n",
       "    <tr>\n",
       "      <th>has_var</th>\n",
       "      <th></th>\n",
       "      <th></th>\n",
       "    </tr>\n",
       "  </thead>\n",
       "  <tbody>\n",
       "    <tr>\n",
       "      <th>False</th>\n",
       "      <td>49648</td>\n",
       "      <td>17797</td>\n",
       "    </tr>\n",
       "    <tr>\n",
       "      <th>True</th>\n",
       "      <td>5096</td>\n",
       "      <td>2737</td>\n",
       "    </tr>\n",
       "  </tbody>\n",
       "</table>\n",
       "</div>"
      ],
      "text/plain": [
       "Positive_Result  False  True \n",
       "has_var                      \n",
       "False            49648  17797\n",
       "True              5096   2737"
      ]
     },
     "execution_count": 21,
     "metadata": {},
     "output_type": "execute_result"
    }
   ],
   "source": [
    "df = train_data[['Var1','Var2','Var3','Var4','Var5','Positive_Result','has_var','v1_b']]\n",
    "df.groupby(['has_var','Positive_Result']).size().unstack().head()"
   ]
  },
  {
   "cell_type": "markdown",
   "metadata": {},
   "source": [
    "#### Var1"
   ]
  },
  {
   "cell_type": "code",
   "execution_count": 22,
   "metadata": {
    "collapsed": false
   },
   "outputs": [
    {
     "data": {
      "text/plain": [
       "<matplotlib.axes._subplots.AxesSubplot at 0x11bb3cf60>"
      ]
     },
     "execution_count": 22,
     "metadata": {},
     "output_type": "execute_result"
    },
    {
     "data": {
      "image/png": "[encoded data removed]",
      "text/plain": [
       "<matplotlib.figure.Figure at 0x119bf9da0>"
      ]
     },
     "metadata": {},
     "output_type": "display_data"
    }
   ],
   "source": [
    "v1_b = df.groupby(['v1_b','Positive_Result']).size().unstack()\n",
    "v1_b['prob'] = v1_b[True] / (v1_b[False] + v1_b[True])\n",
    "v1_b['prob'].plot(kind='bar', title='Pull Thru grouped by var1 bin')\n"
   ]
  },
  {
   "cell_type": "markdown",
   "metadata": {},
   "source": [
    "#### Var2\n"
   ]
  },
  {
   "cell_type": "code",
   "execution_count": 23,
   "metadata": {
    "collapsed": false
   },
   "outputs": [
    {
     "data": {
      "text/html": [
       "<div>\n",
       "<table border=\"1\" class=\"dataframe\">\n",
       "  <thead>\n",
       "    <tr style=\"text-align: right;\">\n",
       "      <th>Positive_Result</th>\n",
       "      <th>False</th>\n",
       "      <th>True</th>\n",
       "    </tr>\n",
       "    <tr>\n",
       "      <th>Var2</th>\n",
       "      <th></th>\n",
       "      <th></th>\n",
       "    </tr>\n",
       "  </thead>\n",
       "  <tbody>\n",
       "    <tr>\n",
       "      <th>0.0</th>\n",
       "      <td>53266</td>\n",
       "      <td>19566</td>\n",
       "    </tr>\n",
       "    <tr>\n",
       "      <th>1.0</th>\n",
       "      <td>1478</td>\n",
       "      <td>968</td>\n",
       "    </tr>\n",
       "  </tbody>\n",
       "</table>\n",
       "</div>"
      ],
      "text/plain": [
       "Positive_Result  False  True \n",
       "Var2                         \n",
       "0.0              53266  19566\n",
       "1.0               1478    968"
      ]
     },
     "execution_count": 23,
     "metadata": {},
     "output_type": "execute_result"
    }
   ],
   "source": [
    "v2 = df.groupby(['Var2','Positive_Result']).size().unstack()\n",
    "v2.head()"
   ]
  },
  {
   "cell_type": "markdown",
   "metadata": {},
   "source": [
    "## Social Media"
   ]
  },
  {
   "cell_type": "code",
   "execution_count": 24,
   "metadata": {
    "collapsed": false
   },
   "outputs": [
    {
     "data": {
      "text/html": [
       "<div>\n",
       "<table border=\"1\" class=\"dataframe\">\n",
       "  <thead>\n",
       "    <tr style=\"text-align: right;\">\n",
       "      <th>Positive_Result</th>\n",
       "      <th>False</th>\n",
       "      <th>True</th>\n",
       "    </tr>\n",
       "    <tr>\n",
       "      <th>online</th>\n",
       "      <th></th>\n",
       "      <th></th>\n",
       "    </tr>\n",
       "  </thead>\n",
       "  <tbody>\n",
       "    <tr>\n",
       "      <th>0</th>\n",
       "      <td>49509</td>\n",
       "      <td>17610</td>\n",
       "    </tr>\n",
       "    <tr>\n",
       "      <th>1</th>\n",
       "      <td>5235</td>\n",
       "      <td>2924</td>\n",
       "    </tr>\n",
       "  </tbody>\n",
       "</table>\n",
       "</div>"
      ],
      "text/plain": [
       "Positive_Result  False  True \n",
       "online                       \n",
       "0                49509  17610\n",
       "1                 5235   2924"
      ]
     },
     "execution_count": 24,
     "metadata": {},
     "output_type": "execute_result"
    }
   ],
   "source": [
    "train_data.groupby(['Positive_Result','online']).size().unstack(0)"
   ]
  },
  {
   "cell_type": "markdown",
   "metadata": {},
   "source": [
    "## City Type"
   ]
  },
  {
   "cell_type": "code",
   "execution_count": 25,
   "metadata": {
    "collapsed": false
   },
   "outputs": [
    {
     "data": {
      "text/plain": [
       "<matplotlib.axes._subplots.AxesSubplot at 0x119ba5780>"
      ]
     },
     "execution_count": 25,
     "metadata": {},
     "output_type": "execute_result"
    },
    {
     "data": {
      "image/png": "[encoded data removed]",
      "text/plain": [
       "<matplotlib.figure.Figure at 0x119bb5cf8>"
      ]
     },
     "metadata": {},
     "output_type": "display_data"
    }
   ],
   "source": [
    "train_data.groupby(['City_Type','Positive_Result']).size().unstack().plot(kind='bar', title='City Type Populations', color=['red','green'])"
   ]
  },
  {
   "cell_type": "markdown",
   "metadata": {},
   "source": [
    "## Age"
   ]
  },
  {
   "cell_type": "code",
   "execution_count": 26,
   "metadata": {
    "collapsed": false,
    "scrolled": true
   },
   "outputs": [
    {
     "data": {
      "text/plain": [
       "<matplotlib.axes._subplots.AxesSubplot at 0x117881710>"
      ]
     },
     "execution_count": 26,
     "metadata": {},
     "output_type": "execute_result"
    },
    {
     "data": {
      "image/png": "[encoded data removed]",
      "text/plain": [
       "<matplotlib.figure.Figure at 0x119f995f8>"
      ]
     },
     "metadata": {},
     "output_type": "display_data"
    }
   ],
   "source": [
    "train_data.Age.hist(bins=20)"
   ]
  },
  {
   "cell_type": "code",
   "execution_count": 27,
   "metadata": {
    "collapsed": false
   },
   "outputs": [
    {
     "data": {
      "text/plain": [
       "<matplotlib.axes._subplots.AxesSubplot at 0x1190c5dd8>"
      ]
     },
     "execution_count": 27,
     "metadata": {},
     "output_type": "execute_result"
    },
    {
     "data": {
      "image/png": "[encoded data removed]",
      "text/plain": [
       "<matplotlib.figure.Figure at 0x1190a6d30>"
      ]
     },
     "metadata": {},
     "output_type": "display_data"
    }
   ],
   "source": [
    "#train_data['Age'] = train_data[no_age]['Age'].apply(cleanAge)\n",
    "train_data.groupby(['age_b','Positive_Result']).size().unstack().plot(title='Age', color=['red','green'], kind='line')"
   ]
  },
  {
   "cell_type": "markdown",
   "metadata": {},
   "source": [
    "# Bring in main model function"
   ]
  },
  {
   "cell_type": "code",
   "execution_count": 28,
   "metadata": {
    "collapsed": false
   },
   "outputs": [],
   "source": [
    "#Import models from scikit learn module:\n",
    "from sklearn.linear_model import LogisticRegression\n",
    "from sklearn.cross_validation import KFold   #For K-fold cross validation\n",
    "from sklearn.ensemble import RandomForestClassifier\n",
    "from sklearn.tree import DecisionTreeClassifier, export_graphviz\n",
    "from sklearn.svm import LinearSVC\n",
    "from sklearn.calibration import CalibratedClassifierCV\n",
    "from sklearn import metrics\n",
    "\n",
    "#Generic function for making a classification model and accessing performance:\n",
    "def classification_model(model, data, predictors, outcome):\n",
    "  #Fit the model:\n",
    "  model.fit(data[predictors],data[outcome])\n",
    "  \n",
    "  #Make predictions on training set:\n",
    "  predictions = model.predict(data[predictors])\n",
    "  \n",
    "  #Print accuracy\n",
    "  accuracy = metrics.accuracy_score(predictions,data[outcome])\n",
    "  print (\"Accuracy : %s\" % \"{0:.3%}\".format(accuracy))\n",
    "\n",
    "  #Perform k-fold cross-validation with 5 folds\n",
    "  kf = KFold(data.shape[0], n_folds=5)\n",
    "  error = []\n",
    "  for train, test in kf:\n",
    "    # Filter training data\n",
    "    train_predictors = (data[predictors].iloc[train,:])\n",
    "    \n",
    "    # The target we're using to train the algorithm.\n",
    "    train_target = data[outcome].iloc[train]\n",
    "    \n",
    "    # Training the algorithm using the predictors and target.\n",
    "    model.fit(train_predictors, train_target)\n",
    "    \n",
    "    #Record error from each cross-validation run\n",
    "    error.append(model.score(data[predictors].iloc[test,:], data[outcome].iloc[test]))\n",
    " \n",
    "  print (\"Cross-Validation Score : %s\" % \"{0:.3%}\".format(np.mean(error)))\n",
    "\n",
    "  #Fit the model again so that it can be refered outside the function:\n",
    "  model.fit(data[predictors],data[outcome])"
   ]
  },
  {
   "cell_type": "markdown",
   "metadata": {},
   "source": [
    "### Encode the data for sklearn"
   ]
  },
  {
   "cell_type": "code",
   "execution_count": 29,
   "metadata": {
    "collapsed": false
   },
   "outputs": [],
   "source": [
    "from sklearn.preprocessing import LabelEncoder\n",
    "var_mod = ['Category1','Category2','Category3','rep_reg_bin','City_Type','age_b','online','v1_b','Var2','Var3','Var4','Var5']\n",
    "le = LabelEncoder()\n",
    "for i in var_mod:\n",
    "    train_data[i] = le.fit_transform(train_data[i])\n",
    "#train_data.dtypes"
   ]
  },
  {
   "cell_type": "code",
   "execution_count": 30,
   "metadata": {
    "collapsed": false
   },
   "outputs": [],
   "source": [
    "for i in var_mod:\n",
    "    test_data[i] = le.fit_transform(test_data[i])"
   ]
  },
  {
   "cell_type": "markdown",
   "metadata": {},
   "source": [
    "### Pick the model that we want to use and fit the model"
   ]
  },
  {
   "cell_type": "code",
   "execution_count": 31,
   "metadata": {
    "collapsed": false
   },
   "outputs": [
    {
     "name": "stdout",
     "output_type": "stream",
     "text": [
      "Accuracy : 76.752%\n",
      "Cross-Validation Score : 76.722%\n"
     ]
    }
   ],
   "source": [
    "outcome_var = 'Positive_Result'\n",
    "model = LinearSVC(tol=0.00001)\n",
    "predictor_var = ['Category1','Category2','Category3','rep_reg_bin','City_Type','age_b','online','v1_b','Var2','Var3','Var4','Var5']\n",
    "classification_model(model, train_data, predictor_var, outcome_var)"
   ]
  },
  {
   "cell_type": "code",
   "execution_count": 32,
   "metadata": {
    "collapsed": false
   },
   "outputs": [],
   "source": [
    "#Version for LinearSVC\n",
    "clf = CalibratedClassifierCV(model)\n",
    "clf.fit(train_data[predictor_var],train_data[outcome_var])\n",
    "results = clf.predict_proba(test_data[predictor_var])\n",
    "formatted = list()\n",
    "for pFalse,pTrue  in results:\n",
    "    formatted.append(pTrue)\n",
    "\n",
    "outcome = pd.Series(formatted, index=test_data.index)\n",
    "\n",
    "test_data['Outcome'] = outcome\n",
    "#test_data['Outcome'].to_csv('output.csv', header=True)"
   ]
  },
  {
   "cell_type": "markdown",
   "metadata": {},
   "source": [
    "# Look into results\n",
    "## What values do we miss on the training sample?"
   ]
  },
  {
   "cell_type": "code",
   "execution_count": 33,
   "metadata": {
    "collapsed": false
   },
   "outputs": [
    {
     "data": {
      "text/plain": [
       "False    0.727224\n",
       "Name: Positive_Result, dtype: float64"
      ]
     },
     "execution_count": 33,
     "metadata": {},
     "output_type": "execute_result"
    }
   ],
   "source": [
    "# null accuracy for the problem\n",
    "train_data.Positive_Result.value_counts().head(1) / len(train_data.Positive_Result)"
   ]
  },
  {
   "cell_type": "markdown",
   "metadata": {},
   "source": [
    "### Confusion Matrix "
   ]
  },
  {
   "cell_type": "code",
   "execution_count": 34,
   "metadata": {
    "collapsed": false
   },
   "outputs": [
    {
     "data": {
      "text/html": [
       "<div>\n",
       "<table border=\"1\" class=\"dataframe\">\n",
       "  <thead>\n",
       "    <tr style=\"text-align: right;\">\n",
       "      <th>predicted</th>\n",
       "      <th>False</th>\n",
       "      <th>True</th>\n",
       "    </tr>\n",
       "    <tr>\n",
       "      <th>Positive_Result</th>\n",
       "      <th></th>\n",
       "      <th></th>\n",
       "    </tr>\n",
       "  </thead>\n",
       "  <tbody>\n",
       "    <tr>\n",
       "      <th>False</th>\n",
       "      <td>48554</td>\n",
       "      <td>6190</td>\n",
       "    </tr>\n",
       "    <tr>\n",
       "      <th>True</th>\n",
       "      <td>11297</td>\n",
       "      <td>9237</td>\n",
       "    </tr>\n",
       "  </tbody>\n",
       "</table>\n",
       "</div>"
      ],
      "text/plain": [
       "predicted        False  True \n",
       "Positive_Result              \n",
       "False            48554   6190\n",
       "True             11297   9237"
      ]
     },
     "execution_count": 34,
     "metadata": {},
     "output_type": "execute_result"
    }
   ],
   "source": [
    "# confusion matrix\n",
    "train_data['predicted'] = model.predict(train_data[predictor_var])\n",
    "train_data.groupby(['predicted','Positive_Result']).size().unstack(0)"
   ]
  },
  {
   "cell_type": "code",
   "execution_count": 35,
   "metadata": {
    "collapsed": false
   },
   "outputs": [],
   "source": [
    "confusion = metrics.confusion_matrix(train_data.Positive_Result, train_data.predicted)\n",
    "TP = confusion[1,1]\n",
    "TN = confusion[0,0]\n",
    "FP = confusion[0,1]\n",
    "FN = confusion[1,0]"
   ]
  },
  {
   "cell_type": "markdown",
   "metadata": {},
   "source": [
    "### Classification Accuracy - *How often is the classifier correct?*"
   ]
  },
  {
   "cell_type": "code",
   "execution_count": 36,
   "metadata": {
    "collapsed": false
   },
   "outputs": [
    {
     "name": "stdout",
     "output_type": "stream",
     "text": [
      "0.767701054757\n",
      "0.767701054757\n"
     ]
    }
   ],
   "source": [
    "print((TP + TN) / (FP + FN + TP + TN))\n",
    "print(metrics.accuracy_score(train_data.Positive_Result, train_data.predicted))"
   ]
  },
  {
   "cell_type": "markdown",
   "metadata": {},
   "source": [
    "### Sensitivity - *When the actual value is positive, how often is the prediction correct?*\n",
    " * How 'sensitive' or selective is the model with detecting a positive instance?"
   ]
  },
  {
   "cell_type": "code",
   "execution_count": 37,
   "metadata": {
    "collapsed": false
   },
   "outputs": [
    {
     "name": "stdout",
     "output_type": "stream",
     "text": [
      "0.449839290932\n",
      "0.449839290932\n"
     ]
    }
   ],
   "source": [
    "print((TP) / (TP + FN))\n",
    "print(metrics.recall_score(train_data.Positive_Result, train_data.predicted))"
   ]
  },
  {
   "cell_type": "markdown",
   "metadata": {},
   "source": [
    "### Specificity - *When the actual value is negative, how often is the prediction correct?*"
   ]
  },
  {
   "cell_type": "code",
   "execution_count": 38,
   "metadata": {
    "collapsed": false
   },
   "outputs": [
    {
     "data": {
      "text/plain": [
       "0.88692824784451263"
      ]
     },
     "execution_count": 38,
     "metadata": {},
     "output_type": "execute_result"
    }
   ],
   "source": [
    "(TN) / (TN + FP)"
   ]
  },
  {
   "cell_type": "markdown",
   "metadata": {},
   "source": [
    "### False Positives Rate - *When the actual value is negative, how often is the prediction incorrect?*"
   ]
  },
  {
   "cell_type": "code",
   "execution_count": 39,
   "metadata": {
    "collapsed": false
   },
   "outputs": [
    {
     "data": {
      "text/plain": [
       "0.11307175215548736"
      ]
     },
     "execution_count": 39,
     "metadata": {},
     "output_type": "execute_result"
    }
   ],
   "source": [
    "FP / (FP + TN)"
   ]
  },
  {
   "cell_type": "markdown",
   "metadata": {},
   "source": [
    "### Precision - *When a positive value is predicted, how often is the prediction correct?*\n",
    " * How precise the classifier is when selecting a positive instance?"
   ]
  },
  {
   "cell_type": "code",
   "execution_count": 40,
   "metadata": {
    "collapsed": false
   },
   "outputs": [
    {
     "name": "stdout",
     "output_type": "stream",
     "text": [
      "0.598755428794\n",
      "0.598755428794\n"
     ]
    }
   ],
   "source": [
    "print(TP / (TP + FP))\n",
    "print(metrics.precision_score(train_data.Positive_Result, train_data.predicted))"
   ]
  },
  {
   "cell_type": "code",
   "execution_count": 41,
   "metadata": {
    "collapsed": false
   },
   "outputs": [
    {
     "name": "stdout",
     "output_type": "stream",
     "text": [
      "             precision    recall  f1-score   support\n",
      "\n",
      "      False       0.81      0.89      0.85     54744\n",
      "       True       0.60      0.45      0.51     20534\n",
      "\n",
      "avg / total       0.75      0.77      0.76     75278\n",
      "\n"
     ]
    }
   ],
   "source": [
    "print(metrics.classification_report(train_data['Positive_Result'], train_data['predicted'], target_names=['False', 'True']))"
   ]
  },
  {
   "cell_type": "markdown",
   "metadata": {},
   "source": [
    "## Grid Search for model parameters\n"
   ]
  },
  {
   "cell_type": "code",
   "execution_count": 42,
   "metadata": {
    "collapsed": false
   },
   "outputs": [
    {
     "name": "stdout",
     "output_type": "stream",
     "text": [
      "Fitting 3 folds for each of 10 candidates, totalling 30 fits\n"
     ]
    },
    {
     "name": "stderr",
     "output_type": "stream",
     "text": [
      "[Parallel(n_jobs=3)]: Done  30 out of  30 | elapsed:    5.1s finished\n"
     ]
    },
    {
     "data": {
      "text/plain": [
       "GridSearchCV(cv=None, error_score='raise',\n",
       "       estimator=LinearSVC(C=1.0, class_weight=None, dual=True, fit_intercept=True,\n",
       "     intercept_scaling=1, loss='squared_hinge', max_iter=1000,\n",
       "     multi_class='ovr', penalty='l2', random_state=None, tol=0.0001,\n",
       "     verbose=0),\n",
       "       fit_params={}, iid=True, n_jobs=3,\n",
       "       param_grid={'C': [0.001, 0.0012915496650148833, 0.0016681005372000594, 0.0021544346900318834, 0.0027825594022071231, 0.003593813663804628, 0.0046415888336127781, 0.0059948425031894096, 0.0077426368268112711, 0.010000000000000002]},\n",
       "       pre_dispatch='2*n_jobs', refit=True, scoring='roc_auc', verbose=1)"
      ]
     },
     "execution_count": 42,
     "metadata": {},
     "output_type": "execute_result"
    }
   ],
   "source": [
    "from sklearn.grid_search import GridSearchCV\n",
    "# define values I want to use:\n",
    "c_values = list(np.logspace(np.log2(0.001),np.log2(0.01),10, base=2))\n",
    "\n",
    "param_grid = dict(C=c_values)\n",
    "\n",
    "grid = GridSearchCV(LinearSVC(), param_grid=param_grid, cv=None, scoring='roc_auc', verbose=1, n_jobs=3)\n",
    "grid.fit(train_data[predictor_var],train_data.Positive_Result)\n"
   ]
  },
  {
   "cell_type": "code",
   "execution_count": 43,
   "metadata": {
    "collapsed": false
   },
   "outputs": [
    {
     "data": {
      "text/plain": [
       "{'C': 0.0046415888336127781}"
      ]
     },
     "execution_count": 43,
     "metadata": {},
     "output_type": "execute_result"
    }
   ],
   "source": [
    "grid.best_params_"
   ]
  },
  {
   "cell_type": "code",
   "execution_count": 44,
   "metadata": {
    "collapsed": false
   },
   "outputs": [
    {
     "data": {
      "text/plain": [
       "0.79693453440618944"
      ]
     },
     "execution_count": 44,
     "metadata": {},
     "output_type": "execute_result"
    }
   ],
   "source": [
    "grid.best_score_"
   ]
  },
  {
   "cell_type": "code",
   "execution_count": 45,
   "metadata": {
    "collapsed": false
   },
   "outputs": [
    {
     "data": {
      "text/plain": [
       "[mean: 0.79673, std: 0.00422, params: {'C': 0.001},\n",
       " mean: 0.79683, std: 0.00425, params: {'C': 0.0012915496650148833},\n",
       " mean: 0.79685, std: 0.00432, params: {'C': 0.0016681005372000594},\n",
       " mean: 0.79689, std: 0.00433, params: {'C': 0.0021544346900318834},\n",
       " mean: 0.79691, std: 0.00434, params: {'C': 0.0027825594022071231},\n",
       " mean: 0.79689, std: 0.00428, params: {'C': 0.003593813663804628},\n",
       " mean: 0.79693, std: 0.00427, params: {'C': 0.0046415888336127781},\n",
       " mean: 0.79693, std: 0.00424, params: {'C': 0.0059948425031894096},\n",
       " mean: 0.79692, std: 0.00423, params: {'C': 0.0077426368268112711},\n",
       " mean: 0.79692, std: 0.00426, params: {'C': 0.010000000000000002}]"
      ]
     },
     "execution_count": 45,
     "metadata": {},
     "output_type": "execute_result"
    }
   ],
   "source": [
    "grid.grid_scores_"
   ]
  },
  {
   "cell_type": "code",
   "execution_count": 46,
   "metadata": {
    "collapsed": false
   },
   "outputs": [
    {
     "name": "stdout",
     "output_type": "stream",
     "text": [
      "Accuracy : 76.757%\n",
      "Cross-Validation Score : 76.766%\n"
     ]
    }
   ],
   "source": [
    "outcome_var = 'Positive_Result'\n",
    "model = LinearSVC(C=grid.best_params_['C'])\n",
    "#predictor_var = ['Category1','Category2','Category3','rep_reg_bin','City_Type','online','v1_b','Var2','Var3','Var4','Var5']\n",
    "classification_model(model, train_data, predictor_var, outcome_var)"
   ]
  },
  {
   "cell_type": "code",
   "execution_count": 47,
   "metadata": {
    "collapsed": false
   },
   "outputs": [],
   "source": [
    "#Version for LinearSVC\n",
    "clf = CalibratedClassifierCV(model)\n",
    "clf.fit(train_data[predictor_var],train_data[outcome_var])\n",
    "results = clf.predict_proba(test_data[predictor_var])\n",
    "formatted = list()\n",
    "for pFalse,pTrue  in results:\n",
    "    formatted.append(pTrue)\n",
    "\n",
    "outcome = pd.Series(formatted, index=test_data.index)\n",
    "\n",
    "test_data['Outcome2'] = outcome\n",
    "test_data['Outcome'].to_csv('output.csv', header=True)"
   ]
  },
  {
   "cell_type": "code",
   "execution_count": null,
   "metadata": {
    "collapsed": true
   },
   "outputs": [],
   "source": []
  }
 ],
 "metadata": {
  "anaconda-cloud": {},
  "kernelspec": {
   "display_name": "Python [default]",
   "language": "python",
   "name": "python3"
  },
  "language_info": {
   "codemirror_mode": {
    "name": "ipython",
    "version": 3
   },
   "file_extension": ".py",
   "mimetype": "text/x-python",
   "name": "python",
   "nbconvert_exporter": "python",
   "pygments_lexer": "ipython3",
   "version": "3.5.2"
  }
 },
 "nbformat": 4,
 "nbformat_minor": 1
}
